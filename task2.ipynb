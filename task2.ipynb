{
 "cells": [
  {
   "cell_type": "markdown",
   "metadata": {},
   "source": [
    "Selected model: neuronal model 626170421 from Allen SDK database \n",
    "Experiment #1 : intracellular current injections at the soma \n",
    "\n",
    "With our model, we can see a trend in the strength of the currents and the spike pattern. \n",
    "The stronger the current, the more frequent the spikes. \n",
    "For example, at 40 pA, there was minimal action in our model. At 70 pA, we can observe our model responding to the current. Increasing the current from there, to 80 pA, 90 pA, and 120 pA shows an increase in spikes within our time of 2 seconds. "
   ]
  },
  {
   "cell_type": "markdown",
   "metadata": {},
   "source": [
    "<img src=\"images/intra_v_90pA.png\" alt=\"intracellular current injection at the soma at 90 pA\" width=\"400px\">\n"
   ]
  }
 ],
 "metadata": {
  "language_info": {
   "name": "python"
  }
 },
 "nbformat": 4,
 "nbformat_minor": 2
}
