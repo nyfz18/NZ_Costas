{
 "cells": [
  {
   "cell_type": "markdown",
   "metadata": {},
   "source": [
    "Selected model: neuronal model 626170421 from Allen SDK database \n",
    "Experiment: intracellular current injections at the soma "
   ]
  },
  {
   "cell_type": "markdown",
   "metadata": {},
   "source": [
    "amp: 0.9 (nA)\n",
    "\n",
    "The spike pattern of our selected model at 0.9 nA or 90 pA is... "
   ]
  }
 ],
 "metadata": {
  "language_info": {
   "name": "python"
  }
 },
 "nbformat": 4,
 "nbformat_minor": 2
}
