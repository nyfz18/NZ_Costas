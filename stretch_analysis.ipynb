{
 "cells": [
  {
   "cell_type": "markdown",
   "metadata": {},
   "source": [
    "In our stretch goal, I have created an animation of a simulation. The simulation is of a current injection with these following parameters: \n",
    "\n",
    "`amp` = 0.09 nA \n",
    "\n",
    "`delay` = 200 ms \n",
    "\n",
    "`duration of current` = 300 ms \n",
    "\n",
    "`total time` = 500 ms "
   ]
  },
  {
   "cell_type": "markdown",
   "metadata": {},
   "source": [
    "In our animation, we can see that the membrane potential starts rising when the current is applied at 200 ms. "
   ]
  }
 ],
 "metadata": {
  "language_info": {
   "name": "python"
  }
 },
 "nbformat": 4,
 "nbformat_minor": 2
}
