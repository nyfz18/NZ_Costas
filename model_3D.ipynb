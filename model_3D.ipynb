{
 "cells": [
  {
   "cell_type": "code",
   "execution_count": 9,
   "metadata": {},
   "outputs": [],
   "source": [
    "from neuron import h\n",
    "h.load_file(\"stdlib.hoc\")\n",
    "h.load_file(\"import3d.hoc\")\n",
    "\n",
    "class Pyramidal:\n",
    "    def __init__(self):\n",
    "        self.load_morphology()\n",
    "        # do discretization, ion channels, etc\n",
    "    def load_morphology(self):\n",
    "        cell = h.Import3d_SWC_read()\n",
    "        cell.input(\"reconstruction.swc\")\n",
    "        i3d = h.Import3d_GUI(cell, False)\n",
    "        i3d.instantiate(self)\n",
    "\n",
    "pyr = Pyramidal()"
   ]
  }
 ],
 "metadata": {
  "kernelspec": {
   "display_name": "base",
   "language": "python",
   "name": "python3"
  },
  "language_info": {
   "codemirror_mode": {
    "name": "ipython",
    "version": 3
   },
   "file_extension": ".py",
   "mimetype": "text/x-python",
   "name": "python",
   "nbconvert_exporter": "python",
   "pygments_lexer": "ipython3",
   "version": "3.12.2"
  }
 },
 "nbformat": 4,
 "nbformat_minor": 2
}
