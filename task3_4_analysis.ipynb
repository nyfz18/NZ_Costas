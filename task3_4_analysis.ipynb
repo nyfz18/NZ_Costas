{
 "cells": [
  {
   "cell_type": "markdown",
   "metadata": {},
   "source": [
    "Selected model: neuronal model 626170421 from Allen SDK database \n",
    "\n",
    "Experiment #2 : extracellular spike waveform\n",
    "\n",
    "From: neuropixel_electrode_1um.csv"
   ]
  },
  {
   "cell_type": "markdown",
   "metadata": {},
   "source": [
    "<img src=\"images/extracellular/extra_v.png\" alt=\"extracellular stimulation and voltage report\">"
   ]
  },
  {
   "cell_type": "markdown",
   "metadata": {},
   "source": [
    "In our membrane potential plot `v_report` above, the extracellular spike waveform stimulation exhibits a pattern of irregular action potentials. This could be because the electric field applied externally interacts with various regions of the neuron's membrane. Unlike direct current injections that specifically targets the soma, extracellular stimulation can influence multiple parts of the neuron (ex: axon, dendrites) at once. This could generate spikes at different initiation sites and result in irregular, variable spike timing, amplitude, and interspike intervals. \n",
    "\n",
    "In contrast to the intracellular current injections that produced regular and consistent action potentials, extracellular spike waveforms had irregular spiking with varying amplitudes and timings. "
   ]
  },
  {
   "cell_type": "markdown",
   "metadata": {},
   "source": [
    "<img src=\"images/extracellular/extra_cai.png\" alt=\"extracellular stimulation and calcium report\">"
   ]
  },
  {
   "cell_type": "markdown",
   "metadata": {},
   "source": [
    "In our calcium concentration report `cai_report` above, the calcium concentration is irregular and doesn't have a specific pattern. However, it matches the erratic spiking of the membrane potential. When the membrane potential spikes upwards and depolarizes, calcium channels open which results in a higher calcium concentration in the neuron. We can see a gradual rise over time in the calcium concentration. The bumps are jumps in the calcium in response to the spikings.   \n"
   ]
  },
  {
   "cell_type": "markdown",
   "metadata": {},
   "source": [
    "We then analyze the amplitude, half-width, and EAP of our experiment. This is performed in `sim2_task4.ipynb`.\n",
    "\n",
    "`Peak amplitude`: 40.757536985554594 mV\n",
    "\n",
    "`Trough amplitude`: -87.01532489888949 mV\n",
    "\n",
    "`Peak-to-peak amplitude`: 127.77286188444408 mV\n",
    "\n",
    "`Half-width of the action potential`: 1.1070003690001613 ms"
   ]
  },
  {
   "cell_type": "markdown",
   "metadata": {},
   "source": [
    "<img src=\"images/analysis/EAP.png\" alt=\"EAP report\">\n"
   ]
  },
  {
   "cell_type": "markdown",
   "metadata": {},
   "source": [
    "The graph directly above shows the relationship between the intracellular action potential (IAP) and extracellular action potential (EAP) over time. Voltage (mV) is plotted on the y-axis and time (ms) on the x-axis.\n",
    "\n",
    "The light blue line represents the intracellular action potential. We can see regular, sharp spikes. There is significant depolarization shown by the positive voltage, followed by repolarization (return to negative voltage). \n",
    "\n",
    "The spikes show neuronal firing with the resting membrane potential around -60mV and peak values close to 40 mV during depolarization. \n",
    "\n",
    "The orange line shows extracellular action potential (EAP). It remains close to 0 mV. The EAP represents the voltage outside the neuron. It is stable and flat, with no signficant change in the extracellular potential. "
   ]
  }
 ],
 "metadata": {
  "language_info": {
   "name": "python"
  }
 },
 "nbformat": 4,
 "nbformat_minor": 2
}
