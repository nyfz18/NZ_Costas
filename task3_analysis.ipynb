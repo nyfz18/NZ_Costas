{
 "cells": [
  {
   "cell_type": "markdown",
   "metadata": {},
   "source": [
    "Selected model: neuronal model 626170421 from Allen SDK database \n",
    "\n",
    "Experiment #2 : extracellular spike waveform\n",
    "\n",
    "From: neuropixel_electrode_1um.csv"
   ]
  },
  {
   "cell_type": "markdown",
   "metadata": {},
   "source": [
    "<img src=\"images/extracellular/extra_v.png\" alt=\"extracellular stimulation and voltage report\">"
   ]
  },
  {
   "cell_type": "markdown",
   "metadata": {},
   "source": [
    "In our membrane potential plot `v_report` above, the extracellular spike waveform stimulation exhibits a pattern of irregular action potentials. This could be because the electric field applied externally interacts with various regions of the neuron's membrane. Unlike direct current injections that specifically targets the soma, extracellular stimulation can influence multiple parts of the neuron (ex: axon, dendrites) at once. This could generate spikes at different initiation sites and result in irregular, variable spike timing, amplitude, and interspike intervals. \n",
    "\n",
    "In contrast to the intracellular current injections that produced regular and consistent action potentials, extracellular spike waveforms had irregular spiking with varying amplitudes and timings. "
   ]
  },
  {
   "cell_type": "markdown",
   "metadata": {},
   "source": [
    "<img src=\"images/extracellular/extra_cai.png\" alt=\"extracellular stimulation and calcium report\">"
   ]
  },
  {
   "cell_type": "markdown",
   "metadata": {},
   "source": [
    "In our calcium concentration report `cai_report` above, the...\n"
   ]
  }
 ],
 "metadata": {
  "language_info": {
   "name": "python"
  }
 },
 "nbformat": 4,
 "nbformat_minor": 2
}
