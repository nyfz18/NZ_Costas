{
 "cells": [
  {
   "cell_type": "markdown",
   "metadata": {},
   "source": [
    "Selected model: neuronal model 626170421 from Allen SDK database \n",
    "\n",
    "Experiment #1 : intracellular current injections at the soma \n",
    "\n",
    "Currents tested: 40 pA, 70 pA, 80 pA, 90 pA, 120 pA \n",
    "\n",
    "Total simulation time: 2000 ms \n",
    "\n",
    "Delay: 500 ms \n",
    "\n",
    "Duration of current: 1000 ms"
   ]
  },
  {
   "cell_type": "markdown",
   "metadata": {},
   "source": [
    "When running the simulation at different amps, we have two reports: `v_report` and `cai_report`. `v_report` tracks the membrane potential (mV) over the time of the simulation. `cai_report` tracks the intracellular calcium concentration over the time of the simulation. "
   ]
  },
  {
   "cell_type": "markdown",
   "metadata": {},
   "source": [
    "Our graphs directly below shows the `v_report` (left) and `cai_report` (right) of the neuron when `40 pA` of current is injected. \n",
    "\n",
    "`v_report` analysis: Initially, before the current is applied (0-500 ms), the membrane potential is around -80 mV, which is the resting membrane potential of the neuron. Once the current injection begins at 500 ms, the membrane depolarizes and the potential rises to around -72 mV. It stays at this level for the duration of the current injection (500 ms - 1500 ms). The current is then removed at 1500 ms, and the potential returns to the baseline of -80 mV. \n",
    "\n",
    "`cai_report` analysis: The calcium concentration begins low and increases gradually once the current is injected at 500 ms.  The calcium levels peak around 1500 ms before declining. This data suggests that as the membrane potential depolarizes, the voltage-gated calcium channels open, which leads to an influx of calcium. \n",
    "\n",
    "The `40 pA` current provides enough depolarization to activate the calcium channels, but it doesn't seem to trigger an action potential. The voltage remains subthreshold. "
   ]
  },
  {
   "cell_type": "markdown",
   "metadata": {},
   "source": [
    "<img src=\"images/intracellular_injections/v_40pA.png\" alt=\"intracellular current injection voltage report at the soma at 40 pA\" width=\"275px\">\n",
    "\n",
    "<img src=\"images/intracellular_injections/cai_40pA.png\" alt=\"intracellular current injection calcium report at the soma at 40 pA\" width=\"300px\">"
   ]
  },
  {
   "cell_type": "markdown",
   "metadata": {},
   "source": [
    "Our graphs directly below shows the `v_report` (left) and `cai_report` (right) of the neuron when `70 pA` of current is injected. \n",
    "\n",
    "`v_report` analysis: At 70 pA, the neuron fires multiple action potentials (spikes). There are a sequence of spikes where the membrane potential jumps above 0 mV and then returns to -60 mV before the next spike. During the current injection between 500 ms and 1500 ms, the neuron exhibits repeated spiking. This suggests that the current injected is strong enough to trigger a repeated firing pattern, and that there is a correlation between the spiking activity and the current injection. After the injection, the neuron returns to its resting potential at -80 mV.  \n",
    "\n",
    "`cai_report` analysis: The calcium concentration increase starting at 500 ms and rises throughout the experiment. There are bumps during the current injection period, which is most likely correlated to the action potentials shown on the left. This can be caused because each spike opens voltage-gated calcium channels, which allows calcium ions to enter the cell, resulting in these bumps. After 1500 ms, the calcium concentration begins to decline because the depolarization ends and calcium channels close.\n",
    "\n",
    "The `70 pA` current is stronger, in comparison to the 40 pA current, and triggers the neuron into an active spiking state in response to the intracellular current injection. "
   ]
  },
  {
   "cell_type": "markdown",
   "metadata": {},
   "source": [
    "<img src=\"images/intracellular_injections/v_70pA.png\" alt=\"intracellular current injection voltage report at the soma at 70 pA\" width=\"275px\">\n",
    "\n",
    "<img src=\"images/intracellular_injections/cai_70pA.png\" alt=\"intracellular current injection calcium report at the soma at 70 pA\" width=\"300px\">"
   ]
  }
 ],
 "metadata": {
  "language_info": {
   "name": "python"
  }
 },
 "nbformat": 4,
 "nbformat_minor": 2
}
